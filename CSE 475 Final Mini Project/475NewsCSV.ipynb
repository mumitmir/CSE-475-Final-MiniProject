{
 "cells": [
  {
   "cell_type": "code",
   "execution_count": 1,
   "source": [
    "    import numpy as np\r\n",
    "    import pandas as pd\r\n",
    "    import itertools"
   ],
   "outputs": [],
   "metadata": {}
  },
  {
   "cell_type": "markdown",
   "source": [
    "# Import the dataset"
   ],
   "metadata": {}
  },
  {
   "cell_type": "code",
   "execution_count": 2,
   "source": [
    "    #Read the data\r\n",
    "    df=pd.read_csv('news.csv')\r\n",
    "    #Get head\r\n",
    "    df.head()"
   ],
   "outputs": [
    {
     "output_type": "execute_result",
     "data": {
      "text/html": [
       "<div>\n",
       "<style scoped>\n",
       "    .dataframe tbody tr th:only-of-type {\n",
       "        vertical-align: middle;\n",
       "    }\n",
       "\n",
       "    .dataframe tbody tr th {\n",
       "        vertical-align: top;\n",
       "    }\n",
       "\n",
       "    .dataframe thead th {\n",
       "        text-align: right;\n",
       "    }\n",
       "</style>\n",
       "<table border=\"1\" class=\"dataframe\">\n",
       "  <thead>\n",
       "    <tr style=\"text-align: right;\">\n",
       "      <th></th>\n",
       "      <th>Unnamed: 0</th>\n",
       "      <th>title</th>\n",
       "      <th>text</th>\n",
       "      <th>label</th>\n",
       "    </tr>\n",
       "  </thead>\n",
       "  <tbody>\n",
       "    <tr>\n",
       "      <td>0</td>\n",
       "      <td>8476</td>\n",
       "      <td>You Can Smell Hillary’s Fear</td>\n",
       "      <td>Daniel Greenfield, a Shillman Journalism Fello...</td>\n",
       "      <td>FAKE</td>\n",
       "    </tr>\n",
       "    <tr>\n",
       "      <td>1</td>\n",
       "      <td>10294</td>\n",
       "      <td>Watch The Exact Moment Paul Ryan Committed Pol...</td>\n",
       "      <td>Google Pinterest Digg Linkedin Reddit Stumbleu...</td>\n",
       "      <td>FAKE</td>\n",
       "    </tr>\n",
       "    <tr>\n",
       "      <td>2</td>\n",
       "      <td>3608</td>\n",
       "      <td>Kerry to go to Paris in gesture of sympathy</td>\n",
       "      <td>U.S. Secretary of State John F. Kerry said Mon...</td>\n",
       "      <td>REAL</td>\n",
       "    </tr>\n",
       "    <tr>\n",
       "      <td>3</td>\n",
       "      <td>10142</td>\n",
       "      <td>Bernie supporters on Twitter erupt in anger ag...</td>\n",
       "      <td>— Kaydee King (@KaydeeKing) November 9, 2016 T...</td>\n",
       "      <td>FAKE</td>\n",
       "    </tr>\n",
       "    <tr>\n",
       "      <td>4</td>\n",
       "      <td>875</td>\n",
       "      <td>The Battle of New York: Why This Primary Matters</td>\n",
       "      <td>It's primary day in New York and front-runners...</td>\n",
       "      <td>REAL</td>\n",
       "    </tr>\n",
       "  </tbody>\n",
       "</table>\n",
       "</div>"
      ],
      "text/plain": [
       "   Unnamed: 0                                              title  \\\n",
       "0        8476                       You Can Smell Hillary’s Fear   \n",
       "1       10294  Watch The Exact Moment Paul Ryan Committed Pol...   \n",
       "2        3608        Kerry to go to Paris in gesture of sympathy   \n",
       "3       10142  Bernie supporters on Twitter erupt in anger ag...   \n",
       "4         875   The Battle of New York: Why This Primary Matters   \n",
       "\n",
       "                                                text label  \n",
       "0  Daniel Greenfield, a Shillman Journalism Fello...  FAKE  \n",
       "1  Google Pinterest Digg Linkedin Reddit Stumbleu...  FAKE  \n",
       "2  U.S. Secretary of State John F. Kerry said Mon...  REAL  \n",
       "3  — Kaydee King (@KaydeeKing) November 9, 2016 T...  FAKE  \n",
       "4  It's primary day in New York and front-runners...  REAL  "
      ]
     },
     "metadata": {},
     "execution_count": 2
    }
   ],
   "metadata": {}
  },
  {
   "cell_type": "code",
   "execution_count": 3,
   "source": [
    "    #DataFrame - Get the labels\r\n",
    "    labels=df.label\r\n",
    "    labels.head()"
   ],
   "outputs": [
    {
     "output_type": "execute_result",
     "data": {
      "text/plain": [
       "0    FAKE\n",
       "1    FAKE\n",
       "2    REAL\n",
       "3    FAKE\n",
       "4    REAL\n",
       "Name: label, dtype: object"
      ]
     },
     "metadata": {},
     "execution_count": 3
    }
   ],
   "metadata": {}
  },
  {
   "cell_type": "code",
   "execution_count": 4,
   "source": [
    "    #Get shape\r\n",
    "    df.shape"
   ],
   "outputs": [
    {
     "output_type": "execute_result",
     "data": {
      "text/plain": [
       "(6335, 4)"
      ]
     },
     "metadata": {},
     "execution_count": 4
    }
   ],
   "metadata": {}
  },
  {
   "cell_type": "code",
   "execution_count": 5,
   "source": [
    "df.groupby('label').describe()"
   ],
   "outputs": [
    {
     "output_type": "execute_result",
     "data": {
      "text/html": [
       "<div>\n",
       "<style scoped>\n",
       "    .dataframe tbody tr th:only-of-type {\n",
       "        vertical-align: middle;\n",
       "    }\n",
       "\n",
       "    .dataframe tbody tr th {\n",
       "        vertical-align: top;\n",
       "    }\n",
       "\n",
       "    .dataframe thead tr th {\n",
       "        text-align: left;\n",
       "    }\n",
       "\n",
       "    .dataframe thead tr:last-of-type th {\n",
       "        text-align: right;\n",
       "    }\n",
       "</style>\n",
       "<table border=\"1\" class=\"dataframe\">\n",
       "  <thead>\n",
       "    <tr>\n",
       "      <th></th>\n",
       "      <th colspan=\"8\" halign=\"left\">Unnamed: 0</th>\n",
       "    </tr>\n",
       "    <tr>\n",
       "      <th></th>\n",
       "      <th>count</th>\n",
       "      <th>mean</th>\n",
       "      <th>std</th>\n",
       "      <th>min</th>\n",
       "      <th>25%</th>\n",
       "      <th>50%</th>\n",
       "      <th>75%</th>\n",
       "      <th>max</th>\n",
       "    </tr>\n",
       "    <tr>\n",
       "      <th>label</th>\n",
       "      <th></th>\n",
       "      <th></th>\n",
       "      <th></th>\n",
       "      <th></th>\n",
       "      <th></th>\n",
       "      <th></th>\n",
       "      <th></th>\n",
       "      <th></th>\n",
       "    </tr>\n",
       "  </thead>\n",
       "  <tbody>\n",
       "    <tr>\n",
       "      <td>FAKE</td>\n",
       "      <td>3164.0</td>\n",
       "      <td>7912.297092</td>\n",
       "      <td>1514.701524</td>\n",
       "      <td>5280.0</td>\n",
       "      <td>6627.75</td>\n",
       "      <td>7904.0</td>\n",
       "      <td>9231.25</td>\n",
       "      <td>10557.0</td>\n",
       "    </tr>\n",
       "    <tr>\n",
       "      <td>REAL</td>\n",
       "      <td>3171.0</td>\n",
       "      <td>2654.344056</td>\n",
       "      <td>1531.720152</td>\n",
       "      <td>2.0</td>\n",
       "      <td>1317.50</td>\n",
       "      <td>2676.0</td>\n",
       "      <td>3992.50</td>\n",
       "      <td>5276.0</td>\n",
       "    </tr>\n",
       "  </tbody>\n",
       "</table>\n",
       "</div>"
      ],
      "text/plain": [
       "      Unnamed: 0                                                              \\\n",
       "           count         mean          std     min      25%     50%      75%   \n",
       "label                                                                          \n",
       "FAKE      3164.0  7912.297092  1514.701524  5280.0  6627.75  7904.0  9231.25   \n",
       "REAL      3171.0  2654.344056  1531.720152     2.0  1317.50  2676.0  3992.50   \n",
       "\n",
       "                \n",
       "           max  \n",
       "label           \n",
       "FAKE   10557.0  \n",
       "REAL    5276.0  "
      ]
     },
     "metadata": {},
     "execution_count": 5
    }
   ],
   "metadata": {}
  },
  {
   "cell_type": "markdown",
   "source": [
    "#                                                    Data Preprocessing"
   ],
   "metadata": {}
  },
  {
   "cell_type": "code",
   "execution_count": 6,
   "source": [
    "#drop unnecessary column => Unnamed: 0\r\n",
    "#to_drop = ['Unnamed: 0']"
   ],
   "outputs": [],
   "metadata": {}
  },
  {
   "cell_type": "code",
   "execution_count": 7,
   "source": [
    "#df.drop(to_drop, inplace=True, axis=1)\r\n",
    "  #axis=1 ==> column, axis=0 ==> row"
   ],
   "outputs": [],
   "metadata": {}
  },
  {
   "cell_type": "code",
   "execution_count": 8,
   "source": [
    "#df.head()"
   ],
   "outputs": [],
   "metadata": {}
  },
  {
   "cell_type": "markdown",
   "source": [
    "### Handle missing data"
   ],
   "metadata": {}
  },
  {
   "cell_type": "code",
   "execution_count": 9,
   "source": [
    "df.info()"
   ],
   "outputs": [
    {
     "output_type": "stream",
     "name": "stdout",
     "text": [
      "<class 'pandas.core.frame.DataFrame'>\n",
      "RangeIndex: 6335 entries, 0 to 6334\n",
      "Data columns (total 4 columns):\n",
      "Unnamed: 0    6335 non-null int64\n",
      "title         6335 non-null object\n",
      "text          6335 non-null object\n",
      "label         6335 non-null object\n",
      "dtypes: int64(1), object(3)\n",
      "memory usage: 198.1+ KB\n"
     ]
    }
   ],
   "metadata": {}
  },
  {
   "cell_type": "code",
   "execution_count": 10,
   "source": [
    "#counting null value for each column\r\n",
    "  #df.isnull().sum()"
   ],
   "outputs": [],
   "metadata": {}
  },
  {
   "cell_type": "code",
   "execution_count": 11,
   "source": [
    "#checking null by-> title\r\n",
    "#df[df.title.isnull()]\r\n",
    "\r\n",
    "#checking null by-> text\r\n",
    "  #df[df.text.isnull()]\r\n",
    "\r\n",
    "#checking null by-> label\r\n",
    "  #df[df.label.isnull()]"
   ],
   "outputs": [],
   "metadata": {}
  },
  {
   "cell_type": "markdown",
   "source": [
    "### Convert FAKE as 0 and REAL as 1"
   ],
   "metadata": {}
  },
  {
   "cell_type": "code",
   "execution_count": 12,
   "source": [
    "df.loc[df[\"label\"]=='REAL',\"label\"]=1\r\n",
    "df.loc[df[\"label\"]=='FAKE',\"label\"]=0"
   ],
   "outputs": [],
   "metadata": {}
  },
  {
   "cell_type": "code",
   "execution_count": 13,
   "source": [
    "df.groupby('label').describe()"
   ],
   "outputs": [
    {
     "output_type": "execute_result",
     "data": {
      "text/html": [
       "<div>\n",
       "<style scoped>\n",
       "    .dataframe tbody tr th:only-of-type {\n",
       "        vertical-align: middle;\n",
       "    }\n",
       "\n",
       "    .dataframe tbody tr th {\n",
       "        vertical-align: top;\n",
       "    }\n",
       "\n",
       "    .dataframe thead tr th {\n",
       "        text-align: left;\n",
       "    }\n",
       "\n",
       "    .dataframe thead tr:last-of-type th {\n",
       "        text-align: right;\n",
       "    }\n",
       "</style>\n",
       "<table border=\"1\" class=\"dataframe\">\n",
       "  <thead>\n",
       "    <tr>\n",
       "      <th></th>\n",
       "      <th colspan=\"8\" halign=\"left\">Unnamed: 0</th>\n",
       "    </tr>\n",
       "    <tr>\n",
       "      <th></th>\n",
       "      <th>count</th>\n",
       "      <th>mean</th>\n",
       "      <th>std</th>\n",
       "      <th>min</th>\n",
       "      <th>25%</th>\n",
       "      <th>50%</th>\n",
       "      <th>75%</th>\n",
       "      <th>max</th>\n",
       "    </tr>\n",
       "    <tr>\n",
       "      <th>label</th>\n",
       "      <th></th>\n",
       "      <th></th>\n",
       "      <th></th>\n",
       "      <th></th>\n",
       "      <th></th>\n",
       "      <th></th>\n",
       "      <th></th>\n",
       "      <th></th>\n",
       "    </tr>\n",
       "  </thead>\n",
       "  <tbody>\n",
       "    <tr>\n",
       "      <td>0</td>\n",
       "      <td>3164.0</td>\n",
       "      <td>7912.297092</td>\n",
       "      <td>1514.701524</td>\n",
       "      <td>5280.0</td>\n",
       "      <td>6627.75</td>\n",
       "      <td>7904.0</td>\n",
       "      <td>9231.25</td>\n",
       "      <td>10557.0</td>\n",
       "    </tr>\n",
       "    <tr>\n",
       "      <td>1</td>\n",
       "      <td>3171.0</td>\n",
       "      <td>2654.344056</td>\n",
       "      <td>1531.720152</td>\n",
       "      <td>2.0</td>\n",
       "      <td>1317.50</td>\n",
       "      <td>2676.0</td>\n",
       "      <td>3992.50</td>\n",
       "      <td>5276.0</td>\n",
       "    </tr>\n",
       "  </tbody>\n",
       "</table>\n",
       "</div>"
      ],
      "text/plain": [
       "      Unnamed: 0                                                              \\\n",
       "           count         mean          std     min      25%     50%      75%   \n",
       "label                                                                          \n",
       "0         3164.0  7912.297092  1514.701524  5280.0  6627.75  7904.0  9231.25   \n",
       "1         3171.0  2654.344056  1531.720152     2.0  1317.50  2676.0  3992.50   \n",
       "\n",
       "                \n",
       "           max  \n",
       "label           \n",
       "0      10557.0  \n",
       "1       5276.0  "
      ]
     },
     "metadata": {},
     "execution_count": 13
    }
   ],
   "metadata": {}
  },
  {
   "cell_type": "code",
   "execution_count": 14,
   "source": [
    "df_x=df[\"title\"]\r\n",
    "df_y=df[\"label\"]"
   ],
   "outputs": [],
   "metadata": {}
  },
  {
   "cell_type": "code",
   "execution_count": 15,
   "source": [
    "df_x\r\n",
    "df_y"
   ],
   "outputs": [
    {
     "output_type": "execute_result",
     "data": {
      "text/plain": [
       "0       0\n",
       "1       0\n",
       "2       1\n",
       "3       0\n",
       "4       1\n",
       "       ..\n",
       "6330    1\n",
       "6331    0\n",
       "6332    0\n",
       "6333    1\n",
       "6334    1\n",
       "Name: label, Length: 6335, dtype: int64"
      ]
     },
     "metadata": {},
     "execution_count": 15
    }
   ],
   "metadata": {}
  },
  {
   "cell_type": "markdown",
   "source": [
    "###  Text Preprocessing"
   ],
   "metadata": {}
  },
  {
   "cell_type": "code",
   "execution_count": 16,
   "source": [
    "#Once the dataset has been imported, the next step is to preprocess the text. Text may contain numbers, special characters, \r\n",
    "#and unwanted spaces. Depending upon the problem we face, we may or may not need to remove these special characters and \r\n",
    "#numbers from text.\r\n",
    "\r\n",
    "documents = []\r\n",
    "from nltk.stem import WordNetLemmatizer\r\n",
    "import re\r\n",
    "#Regex Expressions from Python re library \r\n",
    "import nltk\r\n",
    "#nltk.download('wordnet')\r\n",
    "\r\n",
    "\r\n",
    "\r\n",
    "stemmer = WordNetLemmatizer()\r\n",
    "\r\n",
    "for sen in range(0, len(df_x)):\r\n",
    "    # Remove all the special characters\r\n",
    "    document = re.sub(r'\\W', ' ', str(df_x[sen]))\r\n",
    "    \r\n",
    "    # remove all single characters\r\n",
    "    document = re.sub(r'\\s+[a-zA-Z]\\s+', ' ', document)\r\n",
    "    \r\n",
    "    # Remove single characters from the start\r\n",
    "    document = re.sub(r'\\^[a-zA-Z]\\s+', ' ', document) \r\n",
    "    \r\n",
    "    # Substituting multiple spaces with single space\r\n",
    "    document = re.sub(r'\\s+', ' ', document, flags=re.I)\r\n",
    "    \r\n",
    "    # Removing prefixed 'b'\r\n",
    "    document = re.sub(r'^b\\s+', '', document)\r\n",
    "    \r\n",
    "    # Converting to Lowercase\r\n",
    "    document = document.lower()\r\n",
    "    \r\n",
    "    # Lemmatization\r\n",
    "    document = document.split()\r\n",
    "\r\n",
    "    document = [stemmer.lemmatize(word) for word in document]\r\n",
    "    document = ' '.join(document)\r\n",
    "    \r\n",
    "    documents.append(document)"
   ],
   "outputs": [],
   "metadata": {}
  },
  {
   "cell_type": "markdown",
   "source": [
    "## TfidfVectorizer"
   ],
   "metadata": {}
  },
  {
   "cell_type": "code",
   "execution_count": 17,
   "source": [
    "from sklearn.feature_extraction.text import TfidfVectorizer\r\n",
    "tfidfconverter = TfidfVectorizer(max_features=1500, min_df=5, max_df=0.7, stop_words='english')\r\n",
    "#1500 most occurring words as features\r\n",
    "#min_df=5. minimum number of row that should contain this feature. include those words that occur in at least 5 rows. \r\n",
    "#0.7 means that we should include only those words that occur in a maximum of 70% of all the rows\r\n",
    "df_x = tfidfconverter.fit_transform(documents).toarray()\r\n",
    "#Term frequency = (Number of Occurrences of a word)/(Total words in the document)\r\n",
    "#IDF(word) = Log((Total number of documents)/(Number of documents containing the word))"
   ],
   "outputs": [],
   "metadata": {}
  },
  {
   "cell_type": "code",
   "execution_count": 18,
   "source": [
    "df_x"
   ],
   "outputs": [
    {
     "output_type": "execute_result",
     "data": {
      "text/plain": [
       "array([[0., 0., 0., ..., 0., 0., 0.],\n",
       "       [0., 0., 0., ..., 0., 0., 0.],\n",
       "       [0., 0., 0., ..., 0., 0., 0.],\n",
       "       ...,\n",
       "       [0., 0., 0., ..., 0., 0., 0.],\n",
       "       [0., 0., 0., ..., 0., 0., 0.],\n",
       "       [0., 0., 0., ..., 0., 0., 0.]])"
      ]
     },
     "metadata": {},
     "execution_count": 18
    }
   ],
   "metadata": {}
  },
  {
   "cell_type": "markdown",
   "source": [
    "## Training and Testing Sets Split\n"
   ],
   "metadata": {}
  },
  {
   "cell_type": "code",
   "execution_count": 19,
   "source": [
    "from sklearn.model_selection import train_test_split\r\n",
    "x_train, x_test, y_train, y_test = train_test_split(df_x, df_y, test_size=0.2, random_state=7)\r\n",
    "#The above script divides data into 20% test set and 80% training set\r\n",
    "print(x_train)"
   ],
   "outputs": [
    {
     "output_type": "stream",
     "name": "stdout",
     "text": [
      "[[0.         0.         0.         ... 0.         0.         0.        ]\n",
      " [0.         0.         0.         ... 0.         0.         0.        ]\n",
      " [0.         0.         0.55657207 ... 0.         0.         0.        ]\n",
      " ...\n",
      " [0.         0.         0.         ... 0.         0.         0.        ]\n",
      " [0.         0.         0.         ... 0.         0.         0.        ]\n",
      " [0.         0.         0.         ... 0.         0.         0.        ]]\n"
     ]
    }
   ],
   "metadata": {}
  },
  {
   "cell_type": "markdown",
   "source": [
    "### Feature Scaling"
   ],
   "metadata": {}
  },
  {
   "cell_type": "code",
   "execution_count": 20,
   "source": [
    "from sklearn.preprocessing import StandardScaler\r\n",
    "scaler = StandardScaler()\r\n",
    "scaler.fit(x_train)\r\n",
    "\r\n",
    "x_train = scaler.transform(x_train)\r\n",
    "x_test = scaler.transform(x_test)"
   ],
   "outputs": [],
   "metadata": {}
  },
  {
   "cell_type": "markdown",
   "source": [
    "# Creating Model with Supervised Learning"
   ],
   "metadata": {}
  },
  {
   "cell_type": "markdown",
   "source": [
    "## RandomForest"
   ],
   "metadata": {}
  },
  {
   "cell_type": "code",
   "execution_count": 24,
   "source": [
    "from sklearn.ensemble import RandomForestClassifier\r\n",
    "from sklearn.metrics import classification_report, confusion_matrix, accuracy_score\r\n",
    "from sklearn import metrics\r\n",
    "import matplotlib.pyplot as plt\r\n",
    "import matplotlib.cm as cm\r\n",
    "\r\n",
    "classifier = RandomForestClassifier(n_estimators=1000, random_state=0)\r\n",
    "classifier.fit(x_train, y_train)\r\n",
    "\r\n",
    "#Predict the response for test dataset\r\n",
    "y_pred = classifier.predict(x_test)\r\n",
    "\r\n",
    "print(classification_report(y_test, y_pred))\r\n",
    "\r\n",
    "# Model Accuracy, how often is the classifier correct?\r\n",
    "print(\"Accuracy:\",metrics.accuracy_score(y_test, y_pred))"
   ],
   "outputs": [
    {
     "output_type": "stream",
     "name": "stdout",
     "text": [
      "              precision    recall  f1-score   support\n",
      "\n",
      "           0       0.80      0.81      0.80       638\n",
      "           1       0.80      0.80      0.80       629\n",
      "\n",
      "    accuracy                           0.80      1267\n",
      "   macro avg       0.80      0.80      0.80      1267\n",
      "weighted avg       0.80      0.80      0.80      1267\n",
      "\n",
      "Accuracy: 0.8026835043409629\n"
     ]
    }
   ],
   "metadata": {}
  },
  {
   "cell_type": "markdown",
   "source": [
    "## KNN algorithm "
   ],
   "metadata": {}
  },
  {
   "cell_type": "code",
   "execution_count": 26,
   "source": [
    "from sklearn.neighbors import KNeighborsClassifier\r\n",
    "classifier = KNeighborsClassifier(n_neighbors=5)\r\n",
    "#k=5\r\n",
    "classifier.fit(x_train, y_train)\r\n",
    "\r\n",
    "#Predict the response for test dataset\r\n",
    "y_pred = classifier.predict(x_test)\r\n",
    "\r\n",
    "print(confusion_matrix(y_test, y_pred))\r\n",
    "print(classification_report(y_test, y_pred))\r\n",
    "\r\n",
    "# Model Accuracy, how often is the classifier correct?\r\n",
    "print(\"Accuracy:\",metrics.accuracy_score(y_test, y_pred))"
   ],
   "outputs": [
    {
     "output_type": "stream",
     "name": "stdout",
     "text": [
      "[[519 119]\n",
      " [353 276]]\n",
      "              precision    recall  f1-score   support\n",
      "\n",
      "           0       0.60      0.81      0.69       638\n",
      "           1       0.70      0.44      0.54       629\n",
      "\n",
      "    accuracy                           0.63      1267\n",
      "   macro avg       0.65      0.63      0.61      1267\n",
      "weighted avg       0.65      0.63      0.61      1267\n",
      "\n",
      "Accuracy: 0.6274664561957379\n"
     ]
    }
   ],
   "metadata": {}
  },
  {
   "cell_type": "markdown",
   "source": [
    "### Comparing Error Rate with the K Value"
   ],
   "metadata": {}
  },
  {
   "cell_type": "code",
   "execution_count": 27,
   "source": [
    "#we will plot the mean error for the predicted values of test set for all the K values between 1 and 40\r\n",
    "#K ranges from 1 and 40\r\n",
    "\r\n",
    "error = []\r\n",
    "\r\n",
    "# Calculating error for K values between 1 and 40\r\n",
    "for i in range(1, 40):\r\n",
    "    knn = KNeighborsClassifier(n_neighbors=i)\r\n",
    "    knn.fit(x_train, y_train)\r\n",
    "    pred_i = knn.predict(x_test)\r\n",
    "    error.append(np.mean(pred_i != y_test))\r\n"
   ],
   "outputs": [],
   "metadata": {}
  },
  {
   "cell_type": "code",
   "execution_count": 28,
   "source": [
    "#plot the error values against K values\r\n",
    "import matplotlib.pyplot as plt\r\n",
    "\r\n",
    "plt.figure(figsize=(12, 6))\r\n",
    "plt.plot(range(1, 40), error, color='red', linestyle='dashed', marker='o',\r\n",
    "         markerfacecolor='blue', markersize=10)\r\n",
    "plt.title('Error Rate K Value')\r\n",
    "plt.xlabel('K Value')\r\n",
    "plt.ylabel('Mean Error')\r\n",
    "plt.show()"
   ],
   "outputs": [
    {
     "output_type": "display_data",
     "data": {
      "image/png": "[encoded data removed]",
      "text/plain": [
       "<Figure size 864x432 with 1 Axes>"
      ]
     },
     "metadata": {
      "needs_background": "light"
     }
    }
   ],
   "metadata": {}
  },
  {
   "cell_type": "markdown",
   "source": [
    "##  SVM "
   ],
   "metadata": {}
  },
  {
   "cell_type": "code",
   "execution_count": 29,
   "source": [
    "from sklearn.svm import SVC\r\n",
    "svclassifier = SVC(kernel='linear')\r\n",
    "svclassifier.fit(x_train, y_train)\r\n",
    "\r\n",
    "y_pred = svclassifier.predict(x_test)\r\n",
    "\r\n",
    "print(confusion_matrix(y_test,y_pred))\r\n",
    "print(classification_report(y_test,y_pred))\r\n",
    "print(\"Accuracy:\",metrics.accuracy_score(y_test, y_pred))"
   ],
   "outputs": [
    {
     "output_type": "stream",
     "name": "stdout",
     "text": [
      "[[472 166]\n",
      " [175 454]]\n",
      "              precision    recall  f1-score   support\n",
      "\n",
      "           0       0.73      0.74      0.73       638\n",
      "           1       0.73      0.72      0.73       629\n",
      "\n",
      "    accuracy                           0.73      1267\n",
      "   macro avg       0.73      0.73      0.73      1267\n",
      "weighted avg       0.73      0.73      0.73      1267\n",
      "\n",
      "Accuracy: 0.7308602999210734\n"
     ]
    }
   ],
   "metadata": {}
  },
  {
   "cell_type": "markdown",
   "source": [
    "## Kernel SVM"
   ],
   "metadata": {}
  },
  {
   "cell_type": "markdown",
   "source": [
    "### 1.Polynomial Kernel"
   ],
   "metadata": {}
  },
  {
   "cell_type": "code",
   "execution_count": 30,
   "source": [
    "svclassifier = SVC(kernel='poly', degree=8)\r\n",
    "#degree of the polynomial\r\n",
    "svclassifier.fit(x_train, y_train)\r\n",
    "\r\n",
    "y_pred = svclassifier.predict(x_test)\r\n",
    "\r\n",
    "\r\n",
    "print(confusion_matrix(y_test, y_pred))\r\n",
    "print(classification_report(y_test, y_pred))\r\n",
    "print(\"Accuracy:\",metrics.accuracy_score(y_test, y_pred))"
   ],
   "outputs": [
    {
     "output_type": "stream",
     "name": "stdout",
     "text": [
      "[[ 58 580]\n",
      " [  7 622]]\n",
      "              precision    recall  f1-score   support\n",
      "\n",
      "           0       0.89      0.09      0.17       638\n",
      "           1       0.52      0.99      0.68       629\n",
      "\n",
      "    accuracy                           0.54      1267\n",
      "   macro avg       0.70      0.54      0.42      1267\n",
      "weighted avg       0.71      0.54      0.42      1267\n",
      "\n",
      "Accuracy: 0.5367008681925809\n"
     ]
    }
   ],
   "metadata": {}
  },
  {
   "cell_type": "markdown",
   "source": [
    "### 2. Gaussian Kernel"
   ],
   "metadata": {}
  },
  {
   "cell_type": "code",
   "execution_count": 31,
   "source": [
    "svclassifier = SVC(kernel='rbf')\r\n",
    "svclassifier.fit(x_train, y_train)\r\n",
    "\r\n",
    "y_pred = svclassifier.predict(x_test)\r\n",
    "\r\n",
    "print(confusion_matrix(y_test, y_pred))\r\n",
    "print(classification_report(y_test, y_pred))\r\n",
    "print(\"Accuracy:\",metrics.accuracy_score(y_test, y_pred))"
   ],
   "outputs": [
    {
     "output_type": "stream",
     "name": "stdout",
     "text": [
      "[[520 118]\n",
      " [164 465]]\n",
      "              precision    recall  f1-score   support\n",
      "\n",
      "           0       0.76      0.82      0.79       638\n",
      "           1       0.80      0.74      0.77       629\n",
      "\n",
      "    accuracy                           0.78      1267\n",
      "   macro avg       0.78      0.78      0.78      1267\n",
      "weighted avg       0.78      0.78      0.78      1267\n",
      "\n",
      "Accuracy: 0.7774269928966061\n"
     ]
    }
   ],
   "metadata": {}
  },
  {
   "cell_type": "markdown",
   "source": [
    "### 3. Sigmoid Kernel"
   ],
   "metadata": {}
  },
  {
   "cell_type": "code",
   "execution_count": 32,
   "source": [
    "svclassifier = SVC(kernel='sigmoid')\r\n",
    "svclassifier.fit(x_train, y_train)\r\n",
    "\r\n",
    "y_pred = svclassifier.predict(x_test)\r\n",
    "\r\n",
    "print(confusion_matrix(y_test, y_pred))\r\n",
    "print(classification_report(y_test, y_pred))\r\n",
    "print(\"Accuracy:\",metrics.accuracy_score(y_test, y_pred))"
   ],
   "outputs": [
    {
     "output_type": "stream",
     "name": "stdout",
     "text": [
      "[[512 126]\n",
      " [154 475]]\n",
      "              precision    recall  f1-score   support\n",
      "\n",
      "           0       0.77      0.80      0.79       638\n",
      "           1       0.79      0.76      0.77       629\n",
      "\n",
      "    accuracy                           0.78      1267\n",
      "   macro avg       0.78      0.78      0.78      1267\n",
      "weighted avg       0.78      0.78      0.78      1267\n",
      "\n",
      "Accuracy: 0.7790055248618785\n"
     ]
    }
   ],
   "metadata": {}
  },
  {
   "cell_type": "markdown",
   "source": [
    "## DecisionTree"
   ],
   "metadata": {}
  },
  {
   "cell_type": "code",
   "execution_count": 33,
   "source": [
    "from sklearn.tree import DecisionTreeRegressor\r\n",
    "regressor = DecisionTreeRegressor()\r\n",
    "regressor.fit(x_train, y_train)"
   ],
   "outputs": [
    {
     "output_type": "execute_result",
     "data": {
      "text/plain": [
       "DecisionTreeRegressor(criterion='mse', max_depth=None, max_features=None,\n",
       "                      max_leaf_nodes=None, min_impurity_decrease=0.0,\n",
       "                      min_impurity_split=None, min_samples_leaf=1,\n",
       "                      min_samples_split=2, min_weight_fraction_leaf=0.0,\n",
       "                      presort=False, random_state=None, splitter='best')"
      ]
     },
     "metadata": {},
     "execution_count": 33
    }
   ],
   "metadata": {}
  },
  {
   "cell_type": "code",
   "execution_count": 34,
   "source": [
    "df=pd.DataFrame({'Actual':y_test, 'Predicted':y_pred})\r\n",
    "df"
   ],
   "outputs": [
    {
     "output_type": "execute_result",
     "data": {
      "text/html": [
       "<div>\n",
       "<style scoped>\n",
       "    .dataframe tbody tr th:only-of-type {\n",
       "        vertical-align: middle;\n",
       "    }\n",
       "\n",
       "    .dataframe tbody tr th {\n",
       "        vertical-align: top;\n",
       "    }\n",
       "\n",
       "    .dataframe thead th {\n",
       "        text-align: right;\n",
       "    }\n",
       "</style>\n",
       "<table border=\"1\" class=\"dataframe\">\n",
       "  <thead>\n",
       "    <tr style=\"text-align: right;\">\n",
       "      <th></th>\n",
       "      <th>Actual</th>\n",
       "      <th>Predicted</th>\n",
       "    </tr>\n",
       "  </thead>\n",
       "  <tbody>\n",
       "    <tr>\n",
       "      <td>3534</td>\n",
       "      <td>1</td>\n",
       "      <td>1</td>\n",
       "    </tr>\n",
       "    <tr>\n",
       "      <td>6265</td>\n",
       "      <td>0</td>\n",
       "      <td>0</td>\n",
       "    </tr>\n",
       "    <tr>\n",
       "      <td>3123</td>\n",
       "      <td>1</td>\n",
       "      <td>0</td>\n",
       "    </tr>\n",
       "    <tr>\n",
       "      <td>3940</td>\n",
       "      <td>1</td>\n",
       "      <td>1</td>\n",
       "    </tr>\n",
       "    <tr>\n",
       "      <td>2856</td>\n",
       "      <td>1</td>\n",
       "      <td>1</td>\n",
       "    </tr>\n",
       "    <tr>\n",
       "      <td>...</td>\n",
       "      <td>...</td>\n",
       "      <td>...</td>\n",
       "    </tr>\n",
       "    <tr>\n",
       "      <td>4986</td>\n",
       "      <td>1</td>\n",
       "      <td>1</td>\n",
       "    </tr>\n",
       "    <tr>\n",
       "      <td>5789</td>\n",
       "      <td>1</td>\n",
       "      <td>1</td>\n",
       "    </tr>\n",
       "    <tr>\n",
       "      <td>4338</td>\n",
       "      <td>1</td>\n",
       "      <td>0</td>\n",
       "    </tr>\n",
       "    <tr>\n",
       "      <td>5924</td>\n",
       "      <td>0</td>\n",
       "      <td>1</td>\n",
       "    </tr>\n",
       "    <tr>\n",
       "      <td>6030</td>\n",
       "      <td>1</td>\n",
       "      <td>1</td>\n",
       "    </tr>\n",
       "  </tbody>\n",
       "</table>\n",
       "<p>1267 rows × 2 columns</p>\n",
       "</div>"
      ],
      "text/plain": [
       "      Actual  Predicted\n",
       "3534       1          1\n",
       "6265       0          0\n",
       "3123       1          0\n",
       "3940       1          1\n",
       "2856       1          1\n",
       "...      ...        ...\n",
       "4986       1          1\n",
       "5789       1          1\n",
       "4338       1          0\n",
       "5924       0          1\n",
       "6030       1          1\n",
       "\n",
       "[1267 rows x 2 columns]"
      ]
     },
     "metadata": {},
     "execution_count": 34
    }
   ],
   "metadata": {}
  },
  {
   "cell_type": "code",
   "execution_count": 35,
   "source": [
    "print('Mean Absolute Error:', metrics.mean_absolute_error(y_test, y_pred))\r\n",
    "print('Mean Squared Error:', metrics.mean_squared_error(y_test, y_pred))\r\n",
    "print('Root Mean Squared Error:', np.sqrt(metrics.mean_squared_error(y_test, y_pred)))\r\n",
    "print(\"Accuracy:\",metrics.accuracy_score(y_test, y_pred))"
   ],
   "outputs": [
    {
     "output_type": "stream",
     "name": "stdout",
     "text": [
      "Mean Absolute Error: 0.22099447513812154\n",
      "Mean Squared Error: 0.22099447513812154\n",
      "Root Mean Squared Error: 0.47010049472226845\n",
      "Accuracy: 0.7790055248618785\n"
     ]
    }
   ],
   "metadata": {}
  },
  {
   "cell_type": "markdown",
   "source": [
    "##  Naive Bayes"
   ],
   "metadata": {}
  },
  {
   "cell_type": "markdown",
   "source": [
    "### 1. Bernoulli  "
   ],
   "metadata": {}
  },
  {
   "cell_type": "code",
   "execution_count": 36,
   "source": [
    "from sklearn.naive_bayes import BernoulliNB\r\n",
    "\r\n",
    "clf = BernoulliNB()\r\n",
    "clf.fit(x_train, y_train)\r\n",
    "#Predict the response for test dataset\r\n",
    "y_pred = clf.predict(x_test)\r\n",
    "\r\n",
    "print(confusion_matrix(y_test, y_pred))\r\n",
    "print(classification_report(y_test, y_pred))\r\n",
    "# Model Accuracy, how often is the classifier correct?\r\n",
    "print(\"Accuracy:\",metrics.accuracy_score(y_test, y_pred))"
   ],
   "outputs": [
    {
     "output_type": "stream",
     "name": "stdout",
     "text": [
      "[[537 101]\n",
      " [127 502]]\n",
      "              precision    recall  f1-score   support\n",
      "\n",
      "           0       0.81      0.84      0.82       638\n",
      "           1       0.83      0.80      0.81       629\n",
      "\n",
      "    accuracy                           0.82      1267\n",
      "   macro avg       0.82      0.82      0.82      1267\n",
      "weighted avg       0.82      0.82      0.82      1267\n",
      "\n",
      "Accuracy: 0.8200473559589582\n"
     ]
    }
   ],
   "metadata": {}
  },
  {
   "cell_type": "markdown",
   "source": [
    "### 2. Gaussian "
   ],
   "metadata": {}
  },
  {
   "cell_type": "code",
   "execution_count": 37,
   "source": [
    "from sklearn.naive_bayes import GaussianNB\r\n",
    "\r\n",
    "#Create a Gaussian Classifier\r\n",
    "gnb = GaussianNB()\r\n",
    "\r\n",
    "#Train the model using the training sets\r\n",
    "gnb.fit(x_train, y_train)\r\n",
    "\r\n",
    "#Predict the response for test dataset\r\n",
    "y_pred = gnb.predict(x_test)\r\n",
    "\r\n",
    "print(confusion_matrix(y_test, y_pred))\r\n",
    "print(classification_report(y_test, y_pred))\r\n",
    "# Model Accuracy, how often is the classifier correct?\r\n",
    "print(\"Accuracy:\",metrics.accuracy_score(y_test, y_pred))"
   ],
   "outputs": [
    {
     "output_type": "stream",
     "name": "stdout",
     "text": [
      "[[384 254]\n",
      " [106 523]]\n",
      "              precision    recall  f1-score   support\n",
      "\n",
      "           0       0.78      0.60      0.68       638\n",
      "           1       0.67      0.83      0.74       629\n",
      "\n",
      "    accuracy                           0.72      1267\n",
      "   macro avg       0.73      0.72      0.71      1267\n",
      "weighted avg       0.73      0.72      0.71      1267\n",
      "\n",
      "Accuracy: 0.7158642462509865\n"
     ]
    }
   ],
   "metadata": {}
  },
  {
   "cell_type": "markdown",
   "source": [
    "## Regression Logistic "
   ],
   "metadata": {}
  },
  {
   "cell_type": "code",
   "execution_count": 39,
   "source": [
    "from sklearn.linear_model import LogisticRegression\r\n",
    "\r\n",
    "logreg = LogisticRegression()\r\n",
    "logreg.fit(x_train, y_train)\r\n",
    "\r\n",
    "y_pred=logreg.predict(x_test)\r\n",
    "\r\n",
    "\r\n",
    "print(confusion_matrix(y_test, y_pred))\r\n",
    "print(classification_report(y_test, y_pred))\r\n",
    "# Model Accuracy, how often is the classifier correct?\r\n",
    "print(\"Accuracy:\",metrics.accuracy_score(y_test, y_pred))"
   ],
   "outputs": [
    {
     "output_type": "stream",
     "name": "stderr",
     "text": [
      "C:\\Users\\Mobin\\Anaconda3\\lib\\site-packages\\sklearn\\linear_model\\logistic.py:432: FutureWarning: Default solver will be changed to 'lbfgs' in 0.22. Specify a solver to silence this warning.\n",
      "  FutureWarning)\n"
     ]
    },
    {
     "output_type": "stream",
     "name": "stdout",
     "text": [
      "[[481 157]\n",
      " [170 459]]\n",
      "              precision    recall  f1-score   support\n",
      "\n",
      "           0       0.74      0.75      0.75       638\n",
      "           1       0.75      0.73      0.74       629\n",
      "\n",
      "    accuracy                           0.74      1267\n",
      "   macro avg       0.74      0.74      0.74      1267\n",
      "weighted avg       0.74      0.74      0.74      1267\n",
      "\n",
      "Accuracy: 0.7419100236779794\n"
     ]
    }
   ],
   "metadata": {}
  },
  {
   "cell_type": "markdown",
   "source": [
    "## Linear Discriminant Analysis -- LDA"
   ],
   "metadata": {}
  },
  {
   "cell_type": "code",
   "execution_count": 40,
   "source": [
    "from sklearn.discriminant_analysis import LinearDiscriminantAnalysis\r\n",
    "\r\n",
    "lda = LinearDiscriminantAnalysis()\r\n",
    "lda.fit(x_train, y_train)\r\n",
    "\r\n",
    "\r\n",
    "y_pred=lda.predict(x_test)\r\n",
    "\r\n",
    "\r\n",
    "print(confusion_matrix(y_test, y_pred))\r\n",
    "print(classification_report(y_test, y_pred))\r\n",
    "# Model Accuracy, how often is the classifier correct?\r\n",
    "print(\"Accuracy:\",metrics.accuracy_score(y_test, y_pred))"
   ],
   "outputs": [
    {
     "output_type": "stream",
     "name": "stderr",
     "text": [
      "C:\\Users\\Mobin\\Anaconda3\\lib\\site-packages\\sklearn\\discriminant_analysis.py:388: UserWarning: Variables are collinear.\n",
      "  warnings.warn(\"Variables are collinear.\")\n"
     ]
    },
    {
     "output_type": "stream",
     "name": "stdout",
     "text": [
      "[[502 136]\n",
      " [155 474]]\n",
      "              precision    recall  f1-score   support\n",
      "\n",
      "           0       0.76      0.79      0.78       638\n",
      "           1       0.78      0.75      0.77       629\n",
      "\n",
      "    accuracy                           0.77      1267\n",
      "   macro avg       0.77      0.77      0.77      1267\n",
      "weighted avg       0.77      0.77      0.77      1267\n",
      "\n",
      "Accuracy: 0.7703235990528808\n"
     ]
    }
   ],
   "metadata": {}
  },
  {
   "cell_type": "markdown",
   "source": [
    "## PassiveAggressiveClassifier"
   ],
   "metadata": {}
  },
  {
   "cell_type": "code",
   "execution_count": 41,
   "source": [
    "from sklearn.linear_model import PassiveAggressiveClassifier\r\n",
    "\r\n",
    "pac=PassiveAggressiveClassifier(max_iter=50)\r\n",
    "pac.fit(x_train,y_train)\r\n",
    "#Predict on the test set and calculate accuracy\r\n",
    "y_pred=pac.predict(x_test)\r\n",
    "\r\n",
    "\r\n",
    "print(confusion_matrix(y_test, y_pred))\r\n",
    "print(classification_report(y_test, y_pred))\r\n",
    "# Model Accuracy, how often is the classifier correct?\r\n",
    "print(\"Accuracy:\",metrics.accuracy_score(y_test, y_pred))"
   ],
   "outputs": [
    {
     "output_type": "stream",
     "name": "stdout",
     "text": [
      "[[478 160]\n",
      " [181 448]]\n",
      "              precision    recall  f1-score   support\n",
      "\n",
      "           0       0.73      0.75      0.74       638\n",
      "           1       0.74      0.71      0.72       629\n",
      "\n",
      "    accuracy                           0.73      1267\n",
      "   macro avg       0.73      0.73      0.73      1267\n",
      "weighted avg       0.73      0.73      0.73      1267\n",
      "\n",
      "Accuracy: 0.7308602999210734\n"
     ]
    }
   ],
   "metadata": {}
  },
  {
   "cell_type": "markdown",
   "source": [
    "## GradientBoostingClassifier"
   ],
   "metadata": {}
  },
  {
   "cell_type": "code",
   "execution_count": 42,
   "source": [
    "from sklearn.ensemble import GradientBoostingClassifier\r\n",
    "\r\n",
    "\r\n",
    "clf = GradientBoostingClassifier()\r\n",
    "clf.fit(x_train,y_train)\r\n",
    "y_pred=clf.predict(x_test)\r\n",
    "\r\n",
    "print(confusion_matrix(y_test, y_pred))\r\n",
    "print(classification_report(y_test, y_pred))\r\n",
    "# Model Accuracy, how often is the classifier correct?\r\n",
    "print(\"Accuracy:\",metrics.accuracy_score(y_test, y_pred))"
   ],
   "outputs": [
    {
     "output_type": "stream",
     "name": "stdout",
     "text": [
      "[[564  74]\n",
      " [247 382]]\n",
      "              precision    recall  f1-score   support\n",
      "\n",
      "           0       0.70      0.88      0.78       638\n",
      "           1       0.84      0.61      0.70       629\n",
      "\n",
      "    accuracy                           0.75      1267\n",
      "   macro avg       0.77      0.75      0.74      1267\n",
      "weighted avg       0.77      0.75      0.74      1267\n",
      "\n",
      "Accuracy: 0.7466456195737964\n"
     ]
    }
   ],
   "metadata": {}
  },
  {
   "cell_type": "code",
   "execution_count": null,
   "source": [],
   "outputs": [],
   "metadata": {}
  }
 ],
 "metadata": {
  "kernelspec": {
   "display_name": "Python 3",
   "language": "python",
   "name": "python3"
  },
  "language_info": {
   "codemirror_mode": {
    "name": "ipython",
    "version": 3
   },
   "file_extension": ".py",
   "mimetype": "text/x-python",
   "name": "python",
   "nbconvert_exporter": "python",
   "pygments_lexer": "ipython3",
   "version": "3.7.4"
  }
 },
 "nbformat": 4,
 "nbformat_minor": 2
}